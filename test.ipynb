{
 "cells": [
  {
   "cell_type": "code",
   "execution_count": 9,
   "metadata": {},
   "outputs": [
    {
     "name": "stdout",
     "output_type": "stream",
     "text": [
      "The autoreload extension is already loaded. To reload it, use:\n",
      "  %reload_ext autoreload\n",
      "['', '/usr/lib/python35.zip', '/usr/lib/python3.5', '/usr/lib/python3.5/plat-x86_64-linux-gnu', '/usr/lib/python3.5/lib-dynload', '/usr/local/lib/python3.5/dist-packages', '/usr/lib/python3/dist-packages', '/usr/local/lib/python3.5/dist-packages/IPython/extensions', '/root/.ipython']\n"
     ]
    }
   ],
   "source": [
    "import sys,os\n",
    "%load_ext autoreload\n",
    "%autoreload 2\n",
    "print(sys.path)"
   ]
  },
  {
   "cell_type": "code",
   "execution_count": 10,
   "metadata": {},
   "outputs": [],
   "source": [
    "from pretrain import span_mask_utils\n",
    "from pretrain import pretrain_helpers"
   ]
  },
  {
   "cell_type": "code",
   "execution_count": 13,
   "metadata": {},
   "outputs": [
    {
     "name": "stdout",
     "output_type": "stream",
     "text": [
      "INFO:tensorflow:Online sample with strategy: `token_span`.\n",
      "==tf version== 1.12.0\n",
      "==tf version== 1.12.0\n",
      "INFO:tensorflow:masked_input: Tensor(\"Cast_23:0\", shape=(512,), dtype=int32)\n",
      "INFO:tensorflow:segment_ids: Tensor(\"Cast_24:0\", shape=(512,), dtype=int32)\n",
      "INFO:tensorflow:masked_lm_positions: Tensor(\"Cast_25:0\", shape=(78,), dtype=int32)\n",
      "INFO:tensorflow:masked_mask: Tensor(\"sub_6:0\", shape=(512,), dtype=float32)\n",
      "INFO:tensorflow:masked_lm_weights: Tensor(\"concat_1:0\", shape=(78,), dtype=float32)\n",
      "INFO:tensorflow:target_mapping: Tensor(\"Reshape_3:0\", shape=(78, 512), dtype=float32)\n",
      "INFO:tensorflow:target_mask: Tensor(\"concat_1:0\", shape=(78,), dtype=float32)\n",
      "INFO:tensorflow:target: Tensor(\"Cast_26:0\", shape=(78,), dtype=int32)\n",
      "INFO:tensorflow:masked_lm_ids: Tensor(\"Cast_27:0\", shape=(78,), dtype=int32)\n",
      "INFO:tensorflow:is_target: Tensor(\"Cast_28:0\", shape=(512,), dtype=int32)\n",
      "INFO:tensorflow:origin_input: Tensor(\"Cast_29:0\", shape=(512,), dtype=int32)\n",
      "INFO:tensorflow:pad_mask: Tensor(\"sub_7:0\", shape=(512,), dtype=float32)\n"
     ]
    }
   ],
   "source": [
    "from bunch import Bunch\n",
    "import numpy as np\n",
    "import tensorflow as tf\n",
    "\n",
    "\n",
    "FLAGS = Bunch({})\n",
    "FLAGS.min_tok = 3\n",
    "FLAGS.max_tok = 10\n",
    "FLAGS.sep_id = 102\n",
    "FLAGS.pad_id = 0\n",
    "FLAGS.cls_id = 101\n",
    "FLAGS.mask_id = 103\n",
    "FLAGS.batch_size = 1000\n",
    "FLAGS.leak_ratio = 0.1\n",
    "FLAGS.rand_ratio = 0.1\n",
    "FLAGS.vocab_size = 21128\n",
    "FLAGS.mask_prob = 0.15\n",
    "FLAGS.sample_strategy = 'token_span'\n",
    "FLAGS.confusion_matrix = None\n",
    "FLAGS.confusion_mask_matrix = None\n",
    "FLAGS.prepare_text_infilling = False\n",
    "FLAGS.initial_ratio = 0.1\n",
    "FLAGS.final_ratio = 0.3\n",
    "FLAGS.num_train_steps = 1000\n",
    "\n",
    "name_to_features = {\n",
    "            \"input_ori_ids\":\n",
    "                tf.FixedLenFeature([512], tf.int64)\n",
    "}\n",
    "record_spec = {\n",
    "\t\t\t\t\"input_ori_ids\":\n",
    "\t\t\t\t\t\ttf.FixedLenFeature([512], tf.int64),\n",
    "# \t\t\t\t\"input_mask\":\n",
    "# \t\t\t\t\t\ttf.FixedLenFeature([512], tf.int64),\n",
    "\t\t\t\t\"segment_ids\":\n",
    "\t\t\t\t\t\ttf.FixedLenFeature([512], tf.int64),\n",
    "\t}\n",
    "\n",
    "def _decode_record(record, name_to_features, **kargs):\n",
    "    example = tf.parse_single_example(record, name_to_features)\n",
    "    return example\n",
    "\n",
    "def train_input_fn(input_file, _parse_fn, name_to_features,\n",
    "                   params,\n",
    "                   num_predict=78, seq_len=512,\n",
    "                   use_bfloat16=False,\n",
    "                   truncate_seq=False,\n",
    "                   stride=1,\n",
    "                    **kargs):\n",
    "\n",
    "    dataset = tf.data.TFRecordDataset(input_file, buffer_size=params.get(\"buffer_size\", 100))\n",
    "#     dataset = dataset.shuffle(1024)\n",
    "#     dataset = dataset.map(lambda x:_parse_fn(x, record_spec))\n",
    "    dataset = dataset.map(lambda x:span_mask_utils._decode_record(FLAGS, x, num_predict,\n",
    "                                    seq_len, \n",
    "                                    use_bfloat16=use_bfloat16, \n",
    "                                    truncate_seq=truncate_seq, \n",
    "                                    stride=stride))\n",
    "    dataset = dataset.batch(params.get(\"batch_size\", 1))\n",
    "    dataset = dataset.repeat(params.get(\"epoch\", 1))\n",
    "    iterator = dataset.make_one_shot_iterator()\n",
    "    features = iterator.get_next()\n",
    "    return features\n",
    "\n",
    "output = ['/data/xuht/chinese_sub_task_0.tfrecord']\n",
    "input_fn = train_input_fn(output[0], _decode_record, name_to_features, params=FLAGS)\n",
    "\n",
    "sess = tf.Session()\n",
    "\n",
    "init_op = tf.group(\n",
    "            tf.local_variables_initializer())\n",
    "sess.run(init_op)\n",
    "cout = 0\n",
    "while True:\n",
    "    features = sess.run(input_fn)\n",
    "    cout += 1\n",
    "    break"
   ]
  },
  {
   "cell_type": "code",
   "execution_count": 14,
   "metadata": {},
   "outputs": [],
   "source": [
    "unmasked_input_ids, _ = pretrain_helpers.scatter_update(\n",
    "  tf.constant(features[\"masked_input\"]), \n",
    "  tf.constant(features[\"masked_lm_ids\"]), \n",
    "  tf.constant(features[\"masked_lm_positions\"]))\n",
    "resp = sess.run(unmasked_input_ids)"
   ]
  },
  {
   "cell_type": "code",
   "execution_count": 16,
   "metadata": {},
   "outputs": [
    {
     "data": {
      "text/plain": [
       "array([0, 0, 0, 0, 0, 0, 0, 0, 0, 0, 0, 0, 0, 0, 0, 0, 0, 0, 0, 0, 0, 0,\n",
       "       0, 0, 0, 0, 0, 0, 0, 0, 0, 0, 0, 0, 0, 0, 0, 0, 0, 0, 0, 0, 0, 0,\n",
       "       0, 0, 0, 0, 0, 0, 0, 0, 0, 0, 0, 0, 0, 0, 0, 0, 0, 0, 0, 0, 0, 0,\n",
       "       0, 0, 0, 0, 0, 0, 0, 0, 0, 0, 0, 0, 0, 0, 0, 0, 0, 0, 0, 0, 0, 0,\n",
       "       0, 0, 0, 0, 0, 0, 0, 0, 0, 0, 0, 0, 0, 0, 0, 0, 0, 0, 0, 0, 0, 0,\n",
       "       0, 0, 0, 0, 0, 0, 0, 0, 0, 0, 0, 0, 0, 0, 0, 0, 0, 0, 0, 0, 0, 0,\n",
       "       0, 0, 0, 0, 0, 0, 0, 0, 0, 0, 0, 0, 0, 0, 0, 0, 0, 0, 0, 0, 0, 0,\n",
       "       0, 0, 0, 0, 0, 0, 0, 0, 0, 0, 0, 0, 0, 0, 0, 0, 0, 0, 0, 0, 0, 0,\n",
       "       0, 0, 0, 0, 0, 0, 0, 0, 0, 0, 0, 0, 0, 0, 0, 0, 0, 0, 0, 0, 0, 0,\n",
       "       0, 0, 0, 0, 0, 0, 0, 0, 0, 0, 0, 0, 0, 0, 0, 0, 0, 0, 0, 0, 0, 0,\n",
       "       0, 0, 0, 0, 0, 0, 0, 0, 0, 0, 0, 0, 0, 0, 0, 0, 0, 0, 0, 0, 0, 0,\n",
       "       0, 0, 0, 0, 0, 0, 0, 0, 0, 0, 0, 0, 0, 0, 0, 0, 0, 0, 0, 0, 0, 0,\n",
       "       0, 0, 0, 0, 0, 0, 0, 0, 0, 0, 0, 0, 0, 0, 0, 0, 0, 0, 0, 0, 0, 0,\n",
       "       0, 0, 0, 0, 0, 0, 0, 0, 0, 0, 0, 0, 0, 0, 0, 0, 0, 0, 0, 0, 0, 0,\n",
       "       0, 0, 0, 0, 0, 0, 0, 0, 0, 0, 0, 0, 0, 0, 0, 0, 0, 0, 0, 0, 0, 0,\n",
       "       0, 0, 0, 0, 0, 0, 0, 0, 0, 0, 0, 0, 0, 0, 0, 0, 0, 0, 0, 0, 0, 0,\n",
       "       0, 0, 0, 0, 0, 0, 0, 0, 0, 0, 0, 0, 0, 0, 0, 0, 0, 0, 0, 0, 0, 0,\n",
       "       0, 0, 0, 0, 0, 0, 0, 0, 0, 0, 0, 0, 0, 0, 0, 0, 0, 0, 0, 0, 0, 0,\n",
       "       0, 0, 0, 0, 0, 0, 0, 0, 0, 0, 0, 0, 0, 0, 0, 0, 0, 0, 0, 0, 0, 0,\n",
       "       0, 0, 0, 0, 0, 0, 0, 0, 0, 0, 0, 0, 0, 0, 0, 0, 0, 0, 0, 0, 0, 0,\n",
       "       0, 0, 0, 0, 0, 0, 0, 0, 0, 0, 0, 0, 0, 0, 0, 0, 0, 0, 0, 0, 0, 0,\n",
       "       0, 0, 0, 0, 0, 0, 0, 0, 0, 0, 0, 0, 0, 0, 0, 0, 0, 0, 0, 0, 0, 0,\n",
       "       0, 0, 0, 0, 0, 0, 0, 0, 0, 0, 0, 0, 0, 0, 0, 0, 0, 0, 0, 0, 0, 0,\n",
       "       0, 0, 0, 0, 0, 0], dtype=int32)"
      ]
     },
     "execution_count": 16,
     "metadata": {},
     "output_type": "execute_result"
    }
   ],
   "source": [
    "resp[0]-features['origin_input'][0]"
   ]
  },
  {
   "cell_type": "code",
   "execution_count": 10,
   "metadata": {},
   "outputs": [],
   "source": [
    "import six\n",
    "def get_shape_list(tensor, expected_rank=None, name=None):\n",
    "  \"\"\"Returns a list of the shape of tensor, preferring static dimensions.\n",
    "\n",
    "  Args:\n",
    "    tensor: A tf.Tensor object to find the shape of.\n",
    "    expected_rank: (optional) int. The expected rank of `tensor`. If this is\n",
    "      specified and the `tensor` has a different rank, and exception will be\n",
    "      thrown.\n",
    "    name: Optional name of the tensor for the error message.\n",
    "\n",
    "  Returns:\n",
    "    A list of dimensions of the shape of tensor. All static dimensions will\n",
    "    be returned as python integers, and dynamic dimensions will be returned\n",
    "    as tf.Tensor scalars.\n",
    "  \"\"\"\n",
    "  if name is None:\n",
    "    name = tensor.name\n",
    "\n",
    "  if expected_rank is not None:\n",
    "    assert_rank(tensor, expected_rank, name)\n",
    "\n",
    "  shape = tensor.shape.as_list()\n",
    "\n",
    "  non_static_indexes = []\n",
    "  for (index, dim) in enumerate(shape):\n",
    "    if dim is None:\n",
    "      non_static_indexes.append(index)\n",
    "\n",
    "  if not non_static_indexes:\n",
    "    return shape\n",
    "\n",
    "  dyn_shape = tf.shape(tensor)\n",
    "  for index in non_static_indexes:\n",
    "    shape[index] = dyn_shape[index]\n",
    "  return shape\n",
    "\n",
    "\n",
    "def reshape_to_matrix(input_tensor):\n",
    "  \"\"\"Reshapes a >= rank 2 tensor to a rank 2 tensor (i.e., a matrix).\"\"\"\n",
    "  ndims = input_tensor.shape.ndims\n",
    "  if ndims < 2:\n",
    "    raise ValueError(\"Input tensor must have at least rank 2. Shape = %s\" %\n",
    "                     (input_tensor.shape))\n",
    "  if ndims == 2:\n",
    "    return input_tensor\n",
    "\n",
    "  width = input_tensor.shape[-1]\n",
    "  output_tensor = tf.reshape(input_tensor, [-1, width])\n",
    "  return output_tensor\n",
    "\n",
    "\n",
    "def reshape_from_matrix(output_tensor, orig_shape_list):\n",
    "  \"\"\"Reshapes a rank 2 tensor back to its original rank >= 2 tensor.\"\"\"\n",
    "  if len(orig_shape_list) == 2:\n",
    "    return output_tensor\n",
    "\n",
    "  output_shape = get_shape_list(output_tensor)\n",
    "\n",
    "  orig_dims = orig_shape_list[0:-1]\n",
    "  width = output_shape[-1]\n",
    "\n",
    "  return tf.reshape(output_tensor, orig_dims + [width])\n",
    "\n",
    "\n",
    "def assert_rank(tensor, expected_rank, name=None):\n",
    "  \"\"\"Raises an exception if the tensor rank is not of the expected rank.\n",
    "\n",
    "  Args:\n",
    "    tensor: A tf.Tensor to check the rank of.\n",
    "    expected_rank: Python integer or list of integers, expected rank.\n",
    "    name: Optional name of the tensor for the error message.\n",
    "\n",
    "  Raises:\n",
    "    ValueError: If the expected shape doesn't match the actual shape.\n",
    "  \"\"\"\n",
    "  if name is None:\n",
    "    name = tensor.name\n",
    "\n",
    "  expected_rank_dict = {}\n",
    "  if isinstance(expected_rank, six.integer_types):\n",
    "    expected_rank_dict[expected_rank] = True\n",
    "  else:\n",
    "    for x in expected_rank:\n",
    "      expected_rank_dict[x] = True\n",
    "\n",
    "  actual_rank = tensor.shape.ndims\n",
    "  if actual_rank not in expected_rank_dict:\n",
    "    scope_name = tf.get_variable_scope().name\n",
    "    raise ValueError(\n",
    "        \"For the tensor `%s` in scope `%s`, the actual rank \"\n",
    "        \"`%d` (shape = %s) is not equal to the expected rank `%s`\" %\n",
    "        (name, scope_name, actual_rank, str(tensor.shape), str(expected_rank)))\n"
   ]
  },
  {
   "cell_type": "code",
   "execution_count": 11,
   "metadata": {},
   "outputs": [],
   "source": [
    "import tensorflow as tf\n",
    "\n",
    "def iterative_inv(mat, n_iter=6):\n",
    "\n",
    "  \"\"\"\n",
    "  https://downloads.hindawi.com/journals/aaa/2014/563787.pdf\n",
    "  A New Iterative Method for Finding Approximate Inverses of\n",
    "  Complex Matrices\n",
    "  \"\"\"\n",
    "\n",
    "  mat_shape = get_shape_list(mat, expected_rank=[2,3,4])\n",
    "  I = tf.cast(tf.eye(mat_shape[-1]), dtype=tf.float32)\n",
    "  K = tf.identity(mat) \n",
    "  # [B, N, n-landmarks, n-landmarks]\n",
    "  V = 1 / (tf.reduce_max(tf.reduce_sum(tf.abs(K), axis=-2)) * tf.reduce_max(tf.reduce_sum(tf.abs(K), axis=-1))) * tf.transpose(K, [0,1,3,2])\n",
    "\n",
    "  for _ in range(n_iter):\n",
    "      KV = tf.matmul(K, V)\n",
    "      V = tf.matmul(0.25 * V, 13 * I - tf.matmul(KV, 15 * I - tf.matmul(KV, 7 * I - KV)))\n",
    "  # [B, N, n-landmarks, n-landmarks]\n",
    "  # V = tf.stop_gradient(V)\n",
    "  return V"
   ]
  },
  {
   "cell_type": "code",
   "execution_count": 12,
   "metadata": {},
   "outputs": [],
   "source": [
    "import numpy as np"
   ]
  },
  {
   "cell_type": "code",
   "execution_count": 91,
   "metadata": {},
   "outputs": [],
   "source": [
    "mat = np.random.random((2, 4, 32,32)).astype(np.float32)"
   ]
  },
  {
   "cell_type": "code",
   "execution_count": 56,
   "metadata": {},
   "outputs": [],
   "source": [
    "mat = np.random.normal(0,1,(2,4,3,3)).astype(np.float32)"
   ]
  },
  {
   "cell_type": "code",
   "execution_count": 100,
   "metadata": {},
   "outputs": [],
   "source": [
    "p_inv = iterative_inv(tf.constant(mat), 20)\n",
    "sess = tf.Session()\n",
    "resp_tf = sess.run(p_inv)"
   ]
  },
  {
   "cell_type": "code",
   "execution_count": 101,
   "metadata": {},
   "outputs": [
    {
     "data": {
      "text/plain": [
       "array([[  2.4286504 ,  -1.8182744 ,  -1.4012866 , ..., -11.029692  ,\n",
       "         -1.934946  ,   1.7226888 ],\n",
       "       [  1.8924295 ,  -2.8874543 ,  -0.91047823, ..., -11.661704  ,\n",
       "         -2.3886647 ,   2.4778032 ],\n",
       "       [ -1.934705  ,   2.9703434 ,   1.1450763 , ...,  13.489203  ,\n",
       "          2.979328  ,  -1.4722278 ],\n",
       "       ...,\n",
       "       [  1.5465115 ,  -2.7143054 ,  -0.23415425, ...,  -6.2651434 ,\n",
       "         -1.6216046 ,   1.270768  ],\n",
       "       [  0.21798922,  -1.0885704 ,  -0.8010062 , ...,  -8.297365  ,\n",
       "         -1.8994988 ,   0.3882413 ],\n",
       "       [  0.13643757,   0.20728293,  -0.34668654, ...,   1.6374046 ,\n",
       "          0.17163077,   0.8526275 ]], dtype=float32)"
      ]
     },
     "execution_count": 101,
     "metadata": {},
     "output_type": "execute_result"
    }
   ],
   "source": [
    "resp_tf[0,0]"
   ]
  },
  {
   "cell_type": "code",
   "execution_count": 102,
   "metadata": {},
   "outputs": [
    {
     "data": {
      "text/plain": [
       "array([[  2.4286497 ,  -1.8183264 ,  -1.4012816 , ..., -11.029798  ,\n",
       "         -1.9349804 ,   1.7226788 ],\n",
       "       [  1.892427  ,  -2.8875146 ,  -0.910474  , ..., -11.661825  ,\n",
       "         -2.3887038 ,   2.477794  ],\n",
       "       [ -1.9347032 ,   2.9704075 ,   1.1450713 , ...,  13.489328  ,\n",
       "          2.9793696 ,  -1.472217  ],\n",
       "       ...,\n",
       "       [  1.5465101 ,  -2.7143383 ,  -0.23415156, ...,  -6.265218  ,\n",
       "         -1.6216245 ,   1.2707617 ],\n",
       "       [  0.2179893 ,  -1.0886066 ,  -0.80100286, ...,  -8.297422  ,\n",
       "         -1.8995227 ,   0.38823432],\n",
       "       [  0.13643639,   0.20728822,  -0.3466876 , ...,   1.6374053 ,\n",
       "          0.17163214,   0.85262936]], dtype=float32)"
      ]
     },
     "execution_count": 102,
     "metadata": {},
     "output_type": "execute_result"
    }
   ],
   "source": [
    "np.linalg.pinv(mat[0,0])"
   ]
  },
  {
   "cell_type": "code",
   "execution_count": 70,
   "metadata": {},
   "outputs": [
    {
     "data": {
      "text/plain": [
       "3"
      ]
     },
     "execution_count": 70,
     "metadata": {},
     "output_type": "execute_result"
    }
   ],
   "source": [
    "np.linalg.matrix_rank(mat[0,0])"
   ]
  },
  {
   "cell_type": "code",
   "execution_count": null,
   "metadata": {},
   "outputs": [],
   "source": []
  }
 ],
 "metadata": {
  "kernelspec": {
   "display_name": "Python 3",
   "language": "python",
   "name": "python3"
  },
  "language_info": {
   "codemirror_mode": {
    "name": "ipython",
    "version": 3
   },
   "file_extension": ".py",
   "mimetype": "text/x-python",
   "name": "python",
   "nbconvert_exporter": "python",
   "pygments_lexer": "ipython3",
   "version": "3.5.2"
  }
 },
 "nbformat": 4,
 "nbformat_minor": 2
}
