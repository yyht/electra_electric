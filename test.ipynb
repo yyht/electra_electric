{
 "cells": [
  {
   "cell_type": "code",
   "execution_count": 9,
   "metadata": {},
   "outputs": [
    {
     "name": "stdout",
     "output_type": "stream",
     "text": [
      "The autoreload extension is already loaded. To reload it, use:\n",
      "  %reload_ext autoreload\n",
      "['', '/usr/lib/python35.zip', '/usr/lib/python3.5', '/usr/lib/python3.5/plat-x86_64-linux-gnu', '/usr/lib/python3.5/lib-dynload', '/usr/local/lib/python3.5/dist-packages', '/usr/lib/python3/dist-packages', '/usr/local/lib/python3.5/dist-packages/IPython/extensions', '/root/.ipython']\n"
     ]
    }
   ],
   "source": [
    "import sys,os\n",
    "%load_ext autoreload\n",
    "%autoreload 2\n",
    "print(sys.path)"
   ]
  },
  {
   "cell_type": "code",
   "execution_count": 10,
   "metadata": {},
   "outputs": [],
   "source": [
    "from pretrain import span_mask_utils\n",
    "from pretrain import pretrain_helpers"
   ]
  },
  {
   "cell_type": "code",
   "execution_count": 13,
   "metadata": {},
   "outputs": [
    {
     "name": "stdout",
     "output_type": "stream",
     "text": [
      "INFO:tensorflow:Online sample with strategy: `token_span`.\n",
      "==tf version== 1.12.0\n",
      "==tf version== 1.12.0\n",
      "INFO:tensorflow:masked_input: Tensor(\"Cast_23:0\", shape=(512,), dtype=int32)\n",
      "INFO:tensorflow:segment_ids: Tensor(\"Cast_24:0\", shape=(512,), dtype=int32)\n",
      "INFO:tensorflow:masked_lm_positions: Tensor(\"Cast_25:0\", shape=(78,), dtype=int32)\n",
      "INFO:tensorflow:masked_mask: Tensor(\"sub_6:0\", shape=(512,), dtype=float32)\n",
      "INFO:tensorflow:masked_lm_weights: Tensor(\"concat_1:0\", shape=(78,), dtype=float32)\n",
      "INFO:tensorflow:target_mapping: Tensor(\"Reshape_3:0\", shape=(78, 512), dtype=float32)\n",
      "INFO:tensorflow:target_mask: Tensor(\"concat_1:0\", shape=(78,), dtype=float32)\n",
      "INFO:tensorflow:target: Tensor(\"Cast_26:0\", shape=(78,), dtype=int32)\n",
      "INFO:tensorflow:masked_lm_ids: Tensor(\"Cast_27:0\", shape=(78,), dtype=int32)\n",
      "INFO:tensorflow:is_target: Tensor(\"Cast_28:0\", shape=(512,), dtype=int32)\n",
      "INFO:tensorflow:origin_input: Tensor(\"Cast_29:0\", shape=(512,), dtype=int32)\n",
      "INFO:tensorflow:pad_mask: Tensor(\"sub_7:0\", shape=(512,), dtype=float32)\n"
     ]
    }
   ],
   "source": [
    "from bunch import Bunch\n",
    "import numpy as np\n",
    "import tensorflow as tf\n",
    "\n",
    "\n",
    "FLAGS = Bunch({})\n",
    "FLAGS.min_tok = 3\n",
    "FLAGS.max_tok = 10\n",
    "FLAGS.sep_id = 102\n",
    "FLAGS.pad_id = 0\n",
    "FLAGS.cls_id = 101\n",
    "FLAGS.mask_id = 103\n",
    "FLAGS.batch_size = 1000\n",
    "FLAGS.leak_ratio = 0.1\n",
    "FLAGS.rand_ratio = 0.1\n",
    "FLAGS.vocab_size = 21128\n",
    "FLAGS.mask_prob = 0.15\n",
    "FLAGS.sample_strategy = 'token_span'\n",
    "FLAGS.confusion_matrix = None\n",
    "FLAGS.confusion_mask_matrix = None\n",
    "FLAGS.prepare_text_infilling = False\n",
    "FLAGS.initial_ratio = 0.1\n",
    "FLAGS.final_ratio = 0.3\n",
    "FLAGS.num_train_steps = 1000\n",
    "\n",
    "name_to_features = {\n",
    "            \"input_ori_ids\":\n",
    "                tf.FixedLenFeature([512], tf.int64)\n",
    "}\n",
    "record_spec = {\n",
    "\t\t\t\t\"input_ori_ids\":\n",
    "\t\t\t\t\t\ttf.FixedLenFeature([512], tf.int64),\n",
    "# \t\t\t\t\"input_mask\":\n",
    "# \t\t\t\t\t\ttf.FixedLenFeature([512], tf.int64),\n",
    "\t\t\t\t\"segment_ids\":\n",
    "\t\t\t\t\t\ttf.FixedLenFeature([512], tf.int64),\n",
    "\t}\n",
    "\n",
    "def _decode_record(record, name_to_features, **kargs):\n",
    "    example = tf.parse_single_example(record, name_to_features)\n",
    "    return example\n",
    "\n",
    "def train_input_fn(input_file, _parse_fn, name_to_features,\n",
    "                   params,\n",
    "                   num_predict=78, seq_len=512,\n",
    "                   use_bfloat16=False,\n",
    "                   truncate_seq=False,\n",
    "                   stride=1,\n",
    "                    **kargs):\n",
    "\n",
    "    dataset = tf.data.TFRecordDataset(input_file, buffer_size=params.get(\"buffer_size\", 100))\n",
    "#     dataset = dataset.shuffle(1024)\n",
    "#     dataset = dataset.map(lambda x:_parse_fn(x, record_spec))\n",
    "    dataset = dataset.map(lambda x:span_mask_utils._decode_record(FLAGS, x, num_predict,\n",
    "                                    seq_len, \n",
    "                                    use_bfloat16=use_bfloat16, \n",
    "                                    truncate_seq=truncate_seq, \n",
    "                                    stride=stride))\n",
    "    dataset = dataset.batch(params.get(\"batch_size\", 1))\n",
    "    dataset = dataset.repeat(params.get(\"epoch\", 1))\n",
    "    iterator = dataset.make_one_shot_iterator()\n",
    "    features = iterator.get_next()\n",
    "    return features\n",
    "\n",
    "output = ['/data/xuht/chinese_sub_task_0.tfrecord']\n",
    "input_fn = train_input_fn(output[0], _decode_record, name_to_features, params=FLAGS)\n",
    "\n",
    "sess = tf.Session()\n",
    "\n",
    "init_op = tf.group(\n",
    "            tf.local_variables_initializer())\n",
    "sess.run(init_op)\n",
    "cout = 0\n",
    "while True:\n",
    "    features = sess.run(input_fn)\n",
    "    cout += 1\n",
    "    break"
   ]
  },
  {
   "cell_type": "code",
   "execution_count": 14,
   "metadata": {},
   "outputs": [],
   "source": [
    "unmasked_input_ids, _ = pretrain_helpers.scatter_update(\n",
    "  tf.constant(features[\"masked_input\"]), \n",
    "  tf.constant(features[\"masked_lm_ids\"]), \n",
    "  tf.constant(features[\"masked_lm_positions\"]))\n",
    "resp = sess.run(unmasked_input_ids)"
   ]
  },
  {
   "cell_type": "code",
   "execution_count": 16,
   "metadata": {},
   "outputs": [
    {
     "data": {
      "text/plain": [
       "array([0, 0, 0, 0, 0, 0, 0, 0, 0, 0, 0, 0, 0, 0, 0, 0, 0, 0, 0, 0, 0, 0,\n",
       "       0, 0, 0, 0, 0, 0, 0, 0, 0, 0, 0, 0, 0, 0, 0, 0, 0, 0, 0, 0, 0, 0,\n",
       "       0, 0, 0, 0, 0, 0, 0, 0, 0, 0, 0, 0, 0, 0, 0, 0, 0, 0, 0, 0, 0, 0,\n",
       "       0, 0, 0, 0, 0, 0, 0, 0, 0, 0, 0, 0, 0, 0, 0, 0, 0, 0, 0, 0, 0, 0,\n",
       "       0, 0, 0, 0, 0, 0, 0, 0, 0, 0, 0, 0, 0, 0, 0, 0, 0, 0, 0, 0, 0, 0,\n",
       "       0, 0, 0, 0, 0, 0, 0, 0, 0, 0, 0, 0, 0, 0, 0, 0, 0, 0, 0, 0, 0, 0,\n",
       "       0, 0, 0, 0, 0, 0, 0, 0, 0, 0, 0, 0, 0, 0, 0, 0, 0, 0, 0, 0, 0, 0,\n",
       "       0, 0, 0, 0, 0, 0, 0, 0, 0, 0, 0, 0, 0, 0, 0, 0, 0, 0, 0, 0, 0, 0,\n",
       "       0, 0, 0, 0, 0, 0, 0, 0, 0, 0, 0, 0, 0, 0, 0, 0, 0, 0, 0, 0, 0, 0,\n",
       "       0, 0, 0, 0, 0, 0, 0, 0, 0, 0, 0, 0, 0, 0, 0, 0, 0, 0, 0, 0, 0, 0,\n",
       "       0, 0, 0, 0, 0, 0, 0, 0, 0, 0, 0, 0, 0, 0, 0, 0, 0, 0, 0, 0, 0, 0,\n",
       "       0, 0, 0, 0, 0, 0, 0, 0, 0, 0, 0, 0, 0, 0, 0, 0, 0, 0, 0, 0, 0, 0,\n",
       "       0, 0, 0, 0, 0, 0, 0, 0, 0, 0, 0, 0, 0, 0, 0, 0, 0, 0, 0, 0, 0, 0,\n",
       "       0, 0, 0, 0, 0, 0, 0, 0, 0, 0, 0, 0, 0, 0, 0, 0, 0, 0, 0, 0, 0, 0,\n",
       "       0, 0, 0, 0, 0, 0, 0, 0, 0, 0, 0, 0, 0, 0, 0, 0, 0, 0, 0, 0, 0, 0,\n",
       "       0, 0, 0, 0, 0, 0, 0, 0, 0, 0, 0, 0, 0, 0, 0, 0, 0, 0, 0, 0, 0, 0,\n",
       "       0, 0, 0, 0, 0, 0, 0, 0, 0, 0, 0, 0, 0, 0, 0, 0, 0, 0, 0, 0, 0, 0,\n",
       "       0, 0, 0, 0, 0, 0, 0, 0, 0, 0, 0, 0, 0, 0, 0, 0, 0, 0, 0, 0, 0, 0,\n",
       "       0, 0, 0, 0, 0, 0, 0, 0, 0, 0, 0, 0, 0, 0, 0, 0, 0, 0, 0, 0, 0, 0,\n",
       "       0, 0, 0, 0, 0, 0, 0, 0, 0, 0, 0, 0, 0, 0, 0, 0, 0, 0, 0, 0, 0, 0,\n",
       "       0, 0, 0, 0, 0, 0, 0, 0, 0, 0, 0, 0, 0, 0, 0, 0, 0, 0, 0, 0, 0, 0,\n",
       "       0, 0, 0, 0, 0, 0, 0, 0, 0, 0, 0, 0, 0, 0, 0, 0, 0, 0, 0, 0, 0, 0,\n",
       "       0, 0, 0, 0, 0, 0, 0, 0, 0, 0, 0, 0, 0, 0, 0, 0, 0, 0, 0, 0, 0, 0,\n",
       "       0, 0, 0, 0, 0, 0], dtype=int32)"
      ]
     },
     "execution_count": 16,
     "metadata": {},
     "output_type": "execute_result"
    }
   ],
   "source": [
    "resp[0]-features['origin_input'][0]"
   ]
  },
  {
   "cell_type": "code",
   "execution_count": 8,
   "metadata": {},
   "outputs": [],
   "source": []
  },
  {
   "cell_type": "code",
   "execution_count": null,
   "metadata": {},
   "outputs": [],
   "source": []
  }
 ],
 "metadata": {
  "kernelspec": {
   "display_name": "Python 3",
   "language": "python",
   "name": "python3"
  },
  "language_info": {
   "codemirror_mode": {
    "name": "ipython",
    "version": 3
   },
   "file_extension": ".py",
   "mimetype": "text/x-python",
   "name": "python",
   "nbconvert_exporter": "python",
   "pygments_lexer": "ipython3",
   "version": "3.5.2"
  }
 },
 "nbformat": 4,
 "nbformat_minor": 2
}
